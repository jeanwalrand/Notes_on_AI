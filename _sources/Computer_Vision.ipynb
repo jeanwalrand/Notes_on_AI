{
 "cells": [
  {
   "cell_type": "markdown",
   "metadata": {},
   "source": [
    "# Deep Learning\n",
    "\n",
    "We explore **Deep Learning** applied to **object recognition**.\n",
    "\n",
    "## Deep Neural Network\n",
    "\n",
    "A **DNN** is a neural networkbasic with more than one hidden layer, in contrast with the network we used in the first chapter.  Here is one illustration:\n",
    "\n"
   ]
  },
  {
   "cell_type": "code",
   "execution_count": null,
   "metadata": {},
   "outputs": [],
   "source": [
    "# Notebook: computer_vision4.ipynb\n",
    "# Detect 68 landmarks on a face\n",
    "\n",
    "import cv2\n",
    "import dlib\n",
    "\n",
    "\n",
    "detector = dlib.get_frontal_face_detector()\n",
    "predictor = dlib.shape_predictor('Resources/shape_predictor_68_face_landmarks.dat')\n",
    "cap = cv2.VideoCapture(0)\n",
    "\n",
    "while True:\n",
    "    # Capture the image from the webcam\n",
    "    ret, image = cap.read()\n",
    "    # Convert the image color to grayscale\n",
    "    gray = cv2.cvtColor(image, cv2.COLOR_BGR2GRAY)\n",
    "    # Detect the face\n",
    "    rects = detector(gray, 1)\n",
    "    # Detect landmarks for each face\n",
    "    for rect in rects:\n",
    "        # Get the landmark points\n",
    "        shape = predictor(gray, rect)\n",
    "\t# Convert it to the NumPy Array\n",
    "        shape_np = np.zeros((68, 2), dtype=\"int\")\n",
    "        for i in range(0, 68):\n",
    "            shape_np[i] = (shape.part(i).x, shape.part(i).y)\n",
    "        shape = shape_np\n",
    "\n",
    "        # Display the landmarks\n",
    "        for i, (x, y) in enumerate(shape):\n",
    "\t    # Draw the circle to mark the keypoint \n",
    "            cv2.circle(image, (x, y), 1, (255, 255, 0), -1)\n",
    "\t\t\n",
    "    # Display the image\n",
    "    cv2.imshow('Landmark Detection', image)\n",
    "\n",
    "    # Press the escape button to terminate the code\n",
    "    if cv2.waitKey(10) == 27:\n",
    "        break\n",
    "\n",
    "cap.release()"
   ]
  },
  {
   "cell_type": "code",
   "execution_count": null,
   "metadata": {},
   "outputs": [],
   "source": []
  }
 ],
 "metadata": {
  "celltoolbar": "Slideshow",
  "kernelspec": {
   "display_name": "Python 3",
   "language": "python",
   "name": "python3"
  },
  "language_info": {
   "codemirror_mode": {
    "name": "ipython",
    "version": 3
   },
   "file_extension": ".py",
   "mimetype": "text/x-python",
   "name": "python",
   "nbconvert_exporter": "python",
   "pygments_lexer": "ipython3",
   "version": "3.7.6"
  },
  "rise": {
   "enable_chalkboard": true
  },
  "toc": {
   "base_numbering": 1,
   "nav_menu": {},
   "number_sections": true,
   "sideBar": true,
   "skip_h1_title": false,
   "title_cell": "Table of Contents",
   "title_sidebar": "Contents",
   "toc_cell": false,
   "toc_position": {
    "height": "calc(100% - 180px)",
    "left": "10px",
    "top": "150px",
    "width": "196px"
   },
   "toc_section_display": true,
   "toc_window_display": false
  },
  "varInspector": {
   "cols": {
    "lenName": 16,
    "lenType": 16,
    "lenVar": 40
   },
   "kernels_config": {
    "python": {
     "delete_cmd_postfix": "",
     "delete_cmd_prefix": "del ",
     "library": "var_list.py",
     "varRefreshCmd": "print(var_dic_list())"
    },
    "r": {
     "delete_cmd_postfix": ") ",
     "delete_cmd_prefix": "rm(",
     "library": "var_list.r",
     "varRefreshCmd": "cat(var_dic_list()) "
    }
   },
   "types_to_exclude": [
    "module",
    "function",
    "builtin_function_or_method",
    "instance",
    "_Feature"
   ],
   "window_display": false
  }
 },
 "nbformat": 4,
 "nbformat_minor": 4
}
