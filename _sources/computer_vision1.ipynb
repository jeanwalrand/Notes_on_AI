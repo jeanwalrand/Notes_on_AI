{
 "cells": [
  {
   "cell_type": "markdown",
   "metadata": {},
   "source": [
    "# Computer Vision 1"
   ]
  },
  {
   "cell_type": "code",
   "execution_count": null,
   "metadata": {
    "slideshow": {
     "slide_type": "skip"
    }
   },
   "outputs": [],
   "source": [
    "from IPython.core.display import HTML\n",
    "from IPython.display import Javascript\n",
    "#from toggle_cell import toggle_code as hide_code\n",
    "import numpy as np\n",
    "import math\n",
    "import matplotlib\n",
    "import scipy\n",
    "from scipy.stats import norm\n",
    "from scipy.stats import binom\n",
    "import pandas as pd\n",
    "params = {'figure.figsize':(12,6), # These are plot parameters\n",
    "         'xtick.labelsize': 16,\n",
    "         'ytick.labelsize':16,\n",
    "         'axes.titlesize':18,\n",
    "         'axes.labelsize':18,\n",
    "         'lines.markersize':4,\n",
    "         'legend.fontsize': 20}\n",
    "matplotlib.rcParams.update(params)\n",
    "from matplotlib import pyplot as plt\n",
    "import matplotlib.image as mpimg\n",
    "\n",
    "import os\n",
    "from os.path import isfile, join\n",
    "import random\n",
    "from ipywidgets import *\n",
    "import pandas as pd\n",
    "import cv2"
   ]
  },
  {
   "cell_type": "code",
   "execution_count": null,
   "metadata": {},
   "outputs": [],
   "source": [
    "def dummy(IMGd):\n",
    "    global IMG\n",
    "    IMG = IMGd\n",
    "\n",
    "IMG = widgets.RadioButtons(\n",
    "    options=['Original', 'Gray', 'Blur','Canny',\\\n",
    "             'Dilation','Eroded','Cropped'],\n",
    "    value='Original', # Defaults to 'pineapple'\n",
    "    layout={'width': 'max-content'}, \n",
    "    # If the items' names are long\n",
    "    #description='Pizza topping:',\n",
    "    disabled=False\n",
    ")\n",
    "z = widgets.interactive(dummy, IMGd=IMG)\n",
    "display(z)"
   ]
  },
  {
   "cell_type": "code",
   "execution_count": null,
   "metadata": {},
   "outputs": [],
   "source": [
    "from PIL import Image\n",
    "import requests\n",
    "from io import BytesIO\n",
    "path = 'https://raw.githubusercontent.com/jeanwalrand/Notes_on_AI/main/'\n",
    "\n",
    "def getImage(name):\n",
    "    response = requests.get(path+name)\n",
    "    im1 = Image.open(BytesIO(response.content))\n",
    "    im2 = np.array(im1)\n",
    "    return im2\n",
    "    \n",
    "img0 = getImage(\"Melanie.jpg\")\n",
    "kernel = np.ones((3, 3), np.float32) / 9\n",
    "imgGray0 = cv2.cvtColor(img0,cv2.COLOR_RGB2GRAY)\n",
    "imgBlur0 = cv2.GaussianBlur(imgGray0,(7,7),0)\n",
    "imgCanny0 = cv2.Canny(img0,150,200)\n",
    "imgDilation0 = \\\n",
    "cv2.dilate(imgCanny0,kernel,iterations=1)\n",
    "imgEroded0 = \\\n",
    "cv2.erode(imgDilation0,kernel,iterations=1)\n",
    "imgCropped0 = img0[60:250,90:230]\n",
    "\n",
    "def showImage(IMG):\n",
    "    captions = ['Original','Gray', 'Blur','Canny', \\\n",
    "                'Dilation', 'Eroded','Cropped']\n",
    "    images = [img0,imgGray0,imgBlur0,imgCanny0, \\\n",
    "              imgDilation0, imgEroded0, imgCropped0]\n",
    "    image = images[captions.index(IMG)]\n",
    "    plt.imshow(image, cmap = plt.cm.gray)\n",
    "    plt.title(IMG)\n",
    "    plt.show()\n",
    "    \n",
    "showImage(IMG)"
   ]
  },
  {
   "cell_type": "code",
   "execution_count": null,
   "metadata": {
    "scrolled": true,
    "slideshow": {
     "slide_type": "slide"
    }
   },
   "outputs": [],
   "source": [
    "img = np.zeros((512,512,3),np.uint8) \n",
    "cv2.line(img,(0,0),(img.shape[1],\\\n",
    "                    img.shape[0]),(255,255,0),3)\n",
    "cv2.rectangle(img,(0,0),(250,350),(0,0,255),2)\n",
    "cv2.circle(img,(200,390),80,(0,255,0),5)\n",
    "cv2.putText(img,\" OpenCV  \",(300,200),\\\n",
    "            cv2.FONT_HERSHEY_COMPLEX,1,(0,255,255),2)\n",
    "plt.imshow(toRGB(img))\n",
    "plt.title('Drawing in OpenCV')\n",
    "plt.show()\n",
    "display(button)  "
   ]
  },
  {
   "cell_type": "code",
   "execution_count": null,
   "metadata": {
    "scrolled": false,
    "slideshow": {
     "slide_type": "slide"
    }
   },
   "outputs": [],
   "source": [
    "image = 'Figures/people2.jpeg'\n",
    "faceCascade= cv2.CascadeClassifier(\"Resources/haarcascades/haarcascade_frontalface_default.xml\")\n",
    "img3 = cv2.imread(image)\n",
    "imgGray3 = cv2.cvtColor(img3,cv2.COLOR_BGR2GRAY)\n",
    " \n",
    "faces = faceCascade.detectMultiScale(imgGray3,1.1,5)\n",
    "\n",
    "print('Finding faces in an image (this is not perfect)')\n",
    " \n",
    "for (x,y,w,h) in faces:\n",
    "    cv2.rectangle(img3,(x,y),(x+w,y+h),(0,255,0),2)\n",
    "    \n",
    "plt.imshow(toRGB(img3))\n",
    "plt.title('Face Detection: ' + image)\n",
    "plt.show()\n",
    "display(button)  \n",
    "\n"
   ]
  },
  {
   "cell_type": "code",
   "execution_count": null,
   "metadata": {},
   "outputs": [],
   "source": []
  }
 ],
 "metadata": {
  "celltoolbar": "Slideshow",
  "kernelspec": {
   "display_name": "Python 3",
   "language": "python",
   "name": "python3"
  },
  "language_info": {
   "codemirror_mode": {
    "name": "ipython",
    "version": 3
   },
   "file_extension": ".py",
   "mimetype": "text/x-python",
   "name": "python",
   "nbconvert_exporter": "python",
   "pygments_lexer": "ipython3",
   "version": "3.7.6"
  },
  "rise": {
   "enable_chalkboard": true
  },
  "toc": {
   "base_numbering": 1,
   "nav_menu": {},
   "number_sections": true,
   "sideBar": true,
   "skip_h1_title": false,
   "title_cell": "Table of Contents",
   "title_sidebar": "Contents",
   "toc_cell": false,
   "toc_position": {
    "height": "calc(100% - 180px)",
    "left": "10px",
    "top": "150px",
    "width": "196px"
   },
   "toc_section_display": true,
   "toc_window_display": false
  },
  "varInspector": {
   "cols": {
    "lenName": 16,
    "lenType": 16,
    "lenVar": 40
   },
   "kernels_config": {
    "python": {
     "delete_cmd_postfix": "",
     "delete_cmd_prefix": "del ",
     "library": "var_list.py",
     "varRefreshCmd": "print(var_dic_list())"
    },
    "r": {
     "delete_cmd_postfix": ") ",
     "delete_cmd_prefix": "rm(",
     "library": "var_list.r",
     "varRefreshCmd": "cat(var_dic_list()) "
    }
   },
   "types_to_exclude": [
    "module",
    "function",
    "builtin_function_or_method",
    "instance",
    "_Feature"
   ],
   "window_display": false
  }
 },
 "nbformat": 4,
 "nbformat_minor": 4
}
